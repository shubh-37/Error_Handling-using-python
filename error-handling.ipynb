{
 "cells": [
  {
   "cell_type": "code",
   "execution_count": 2,
   "id": "f658a537",
   "metadata": {},
   "outputs": [
    {
     "name": "stdout",
     "output_type": "stream",
     "text": [
      "Unsupported Operand type\n"
     ]
    }
   ],
   "source": [
    "#Homework Challenge 1\n",
    "try: #This is where you test the piece of code you might have error in\n",
    "    for i in ['a','b','c']:\n",
    "        print(i**2)\n",
    "except TypeError: #If an error is there it will be caught in the except block and a message will be printed\n",
    "    print('Unsupported Operand type')\n",
    "finally: #this finally block will get executed no matter what \n",
    "    print('I will always get executed')"
   ]
  },
  {
   "cell_type": "code",
   "execution_count": 4,
   "id": "7e706ee0",
   "metadata": {},
   "outputs": [
    {
     "name": "stdout",
     "output_type": "stream",
     "text": [
      "Division by Error is not accepted\n",
      "All Done\n"
     ]
    }
   ],
   "source": [
    "#Homework Challenge 2\n",
    "try:\n",
    "    x = 5\n",
    "    y = 0\n",
    "    print(x/y)\n",
    "except ZeroDivisionError:\n",
    "    print(\"Division by 0 is not accepted\")\n",
    "finally:\n",
    "    print(\"All Done\")"
   ]
  },
  {
   "cell_type": "code",
   "execution_count": 8,
   "id": "5f5a464f",
   "metadata": {},
   "outputs": [],
   "source": [
    "#Homework Challenge 3\n",
    "def func():\n",
    "    while True:    \n",
    "        try:\n",
    "            res = int(input(\"Please enter a number: \"))    \n",
    "        except:\n",
    "            print(\"!!!Not a Number!!! Enter again\")\n",
    "            continue\n",
    "        else:\n",
    "            print(f'The square of the number entered is {res*res}')\n",
    "            break;\n",
    "        finally:\n",
    "            print(\"All Done\")"
   ]
  },
  {
   "cell_type": "code",
   "execution_count": 10,
   "id": "4f9a28e3",
   "metadata": {},
   "outputs": [
    {
     "name": "stdout",
     "output_type": "stream",
     "text": [
      "Please enter a number: hi\n",
      "!!!Not a Number!!! Enter again\n",
      "All Done\n",
      "Please enter a number: s\n",
      "!!!Not a Number!!! Enter again\n",
      "All Done\n",
      "Please enter a number: 23\n",
      "The square of the number entered is 529\n",
      "All Done\n"
     ]
    }
   ],
   "source": [
    "func()"
   ]
  },
  {
   "cell_type": "code",
   "execution_count": null,
   "id": "61aef8b1",
   "metadata": {},
   "outputs": [],
   "source": []
  }
 ],
 "metadata": {
  "kernelspec": {
   "display_name": "Python 3 (ipykernel)",
   "language": "python",
   "name": "python3"
  },
  "language_info": {
   "codemirror_mode": {
    "name": "ipython",
    "version": 3
   },
   "file_extension": ".py",
   "mimetype": "text/x-python",
   "name": "python",
   "nbconvert_exporter": "python",
   "pygments_lexer": "ipython3",
   "version": "3.9.7"
  }
 },
 "nbformat": 4,
 "nbformat_minor": 5
}
